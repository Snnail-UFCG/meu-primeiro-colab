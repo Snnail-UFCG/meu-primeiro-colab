{
  "nbformat": 4,
  "nbformat_minor": 0,
  "metadata": {
    "colab": {
      "provenance": [],
      "authorship_tag": "ABX9TyNuU1vnE5FxfFqv8lRYcQs7",
      "include_colab_link": true
    },
    "kernelspec": {
      "name": "python3",
      "display_name": "Python 3"
    },
    "language_info": {
      "name": "python"
    }
  },
  "cells": [
    {
      "cell_type": "markdown",
      "metadata": {
        "id": "view-in-github",
        "colab_type": "text"
      },
      "source": [
        "<a href=\"https://colab.research.google.com/github/drawnator/exemplo-colab-git/blob/main/meu_primeiro_colab.ipynb\" target=\"_parent\"><img src=\"https://colab.research.google.com/assets/colab-badge.svg\" alt=\"Open In Colab\"/></a>"
      ]
    },
    {
      "cell_type": "markdown",
      "source": [
        "# Oque é o colab?"
      ],
      "metadata": {
        "id": "mZmHuEm4aifQ"
      }
    },
    {
      "cell_type": "code",
      "source": [
        "print(\"hello\")"
      ],
      "metadata": {
        "id": "SyI8iPmTk_kg"
      },
      "execution_count": null,
      "outputs": []
    },
    {
      "cell_type": "markdown",
      "source": [
        "# open-source & machine learning"
      ],
      "metadata": {
        "id": "yQwbRLbKRbh3"
      }
    },
    {
      "cell_type": "markdown",
      "source": [
        "## mediapipe\n",
        "[introdução a mediapipe](https://colab.research.google.com/github/spmallick/learnopencv/blob/master/Introduction-to-MediaPipe/MediaPipe-sample-solutions.ipynb)\n",
        "\n",
        "[mediapipe solutions](https://ai.google.dev/edge/mediapipe/solutions/guide)"
      ],
      "metadata": {
        "id": "v6fN10enuxah"
      }
    },
    {
      "cell_type": "code",
      "source": [
        "!pip install opencv-python\n",
        "!pip install mediapipe\n",
        "!wget https://raw.githubusercontent.com/spmallick/learnopencv/master/Introduction-to-MediaPipe/hand.jpg"
      ],
      "metadata": {
        "id": "OMw_VGZ_uRNr"
      },
      "execution_count": null,
      "outputs": []
    },
    {
      "cell_type": "code",
      "source": [
        "import cv2 as cv\n",
        "import mediapipe as mp\n",
        "import matplotlib.pyplot as plt"
      ],
      "metadata": {
        "id": "MTzI3qABq8F5"
      },
      "execution_count": 2,
      "outputs": []
    },
    {
      "cell_type": "code",
      "source": [
        "# Initialize MP hands.\n",
        "mp_hands = mp.solutions.hands\n",
        "mp_drawing = mp.solutions.drawing_utils\n",
        "mp_drawing_styles = mp.solutions.drawing_styles\n",
        "\n",
        "\n",
        "hands = mp_hands.Hands(static_image_mode=True, max_num_hands=2, min_detection_confidence=0.5)\n",
        "\n",
        "# Load hand image.\n",
        "hand_img = cv.imread('hand.jpg')\n",
        "\n",
        "# Resizing the image for faster processing.\n",
        "hand_img = cv.resize(hand_img, None, fx=0.1, fy=0.1)\n",
        "\n",
        "# Convert the BGR image to RGB before processing.\n",
        "rgb_img = cv.cvtColor(hand_img, cv.COLOR_BGR2RGB)\n",
        "\n",
        "# Process.\n",
        "results = hands.process(rgb_img)\n",
        "\n",
        "# Draw.\n",
        "annotated_img = hand_img.copy()\n",
        "for hand_landmarks in results.multi_hand_landmarks:\n",
        "    mp_drawing.draw_landmarks(annotated_img,\n",
        "                              hand_landmarks,\n",
        "                              mp_hands.HAND_CONNECTIONS,\n",
        "                              mp_drawing_styles.get_default_hand_landmarks_style(),\n",
        "                              mp_drawing_styles.get_default_hand_connections_style())\n",
        "plt.figure(figsize=(20,15))\n",
        "plt.subplot(121)\n",
        "plt.imshow(hand_img[...,::-1])\n",
        "plt.title('Hand Image')\n",
        "plt.subplot(122)\n",
        "plt.imshow(annotated_img[...,::-1])\n",
        "plt.title('Hand Detection');"
      ],
      "metadata": {
        "id": "KPh0Z1_TqzXs"
      },
      "execution_count": null,
      "outputs": []
    },
    {
      "cell_type": "markdown",
      "source": [
        "## outras implementações famosas"
      ],
      "metadata": {
        "id": "LlE8Ns_fu9pz"
      }
    },
    {
      "cell_type": "markdown",
      "source": [
        "- [gpt-2](https://colab.research.google.com/github/ilopezfr/gpt-2/blob/master/gpt-2-playground_.ipynb)\n",
        "- [gptNeo](https://colab.research.google.com/github/EleutherAI/GPTNeo/blob/master/GPTNeo_example_notebook.ipynb#scrollTo=lgTG1ammqGB0)\n",
        "- [jukebox](https://colab.research.google.com/github/openai/jukebox/blob/master/jukebox/Interacting_with_Jukebox.ipynb#scrollTo=uq8uLwZCn0BV)\n",
        "- [midjourney](https://colab.research.google.com/github/camenduru/stable-diffusion-webui-colab/blob/main/stable/midjourney_v4_diffusion_webui_colab.ipynb)\n",
        "- [Disco_Diffusion](https://colab.research.google.com/github/alembics/disco-diffusion/blob/main/Disco_Diffusion.ipynb)\n",
        "- [First Order motion](https://colab.research.google.com/github/sony/nnabla-examples/blob/master/interactive-demos/fomm.ipynb)\n",
        "- [nerfies](https://colab.research.google.com/github/google/nerfies/blob/main/notebooks/Nerfies_Render_Video.ipynb)"
      ],
      "metadata": {
        "id": "FQlD2votRvPG"
      }
    },
    {
      "cell_type": "markdown",
      "source": [
        "# Machine learning"
      ],
      "metadata": {
        "id": "kMpcVfYJOY5r"
      }
    },
    {
      "cell_type": "markdown",
      "source": [
        "- [tensorflow](https://colab.research.google.com/github/tensorflow/docs/blob/master/site/en/tutorials/quickstart/beginner.ipynb)\n",
        "- [keras](https://keras.io/)"
      ],
      "metadata": {
        "id": "qJCGJpWDOw2e"
      }
    },
    {
      "cell_type": "markdown",
      "source": [
        "## Banco de dados"
      ],
      "metadata": {
        "id": "r0XGVpL3UpdY"
      }
    },
    {
      "cell_type": "code",
      "source": [
        "import tensorflow as tf\n",
        "mnist = tf.keras.datasets.mnist\n",
        "\n",
        "(x_train, y_train), (x_test, y_test) = mnist.load_data()\n",
        "x_train, x_test = x_train / 255.0, x_test / 255.0"
      ],
      "metadata": {
        "id": "AOGsC8QhRZo7"
      },
      "execution_count": null,
      "outputs": []
    },
    {
      "cell_type": "markdown",
      "source": [
        "## Modelo"
      ],
      "metadata": {
        "id": "QtWvvggOUtry"
      }
    },
    {
      "cell_type": "code",
      "source": [
        "model = tf.keras.models.Sequential([\n",
        "  tf.keras.layers.Flatten(input_shape=(28, 28)),\n",
        "  tf.keras.layers.Dense(128, activation='relu'),\n",
        "  tf.keras.layers.Dropout(0.1),\n",
        "  tf.keras.layers.Dense(10)\n",
        "])"
      ],
      "metadata": {
        "id": "f5F6JFNMUkem"
      },
      "execution_count": 132,
      "outputs": []
    },
    {
      "cell_type": "markdown",
      "source": [
        "## função de perda\n"
      ],
      "metadata": {
        "id": "cEl3R7_dUx3G"
      }
    },
    {
      "cell_type": "code",
      "source": [
        "loss_fn = tf.keras.losses.SparseCategoricalCrossentropy(from_logits=True)"
      ],
      "metadata": {
        "id": "uH4Md4jiU-9a"
      },
      "execution_count": 133,
      "outputs": []
    },
    {
      "cell_type": "markdown",
      "source": [
        "## compilar o modelo\n"
      ],
      "metadata": {
        "id": "qyx4TiZxVAnZ"
      }
    },
    {
      "cell_type": "code",
      "source": [
        "model.compile(optimizer='adam',\n",
        "              loss=loss_fn,\n",
        "              metrics=['accuracy'])"
      ],
      "metadata": {
        "id": "N8srVI2vVI_U"
      },
      "execution_count": 134,
      "outputs": []
    },
    {
      "cell_type": "markdown",
      "source": [
        "## treinando o modelo"
      ],
      "metadata": {
        "id": "767U87acVJnY"
      }
    },
    {
      "cell_type": "code",
      "source": [
        "model.fit(x_train, y_train, epochs=5)"
      ],
      "metadata": {
        "id": "PNVRA_1BVRRE"
      },
      "execution_count": null,
      "outputs": []
    },
    {
      "cell_type": "markdown",
      "source": [
        "## resultados"
      ],
      "metadata": {
        "id": "2zNsBoM2Vlna"
      }
    },
    {
      "cell_type": "code",
      "source": [
        "model.evaluate(x_test,  y_test, verbose=2)"
      ],
      "metadata": {
        "id": "TXv0ns36Vpte"
      },
      "execution_count": null,
      "outputs": []
    },
    {
      "cell_type": "code",
      "source": [
        "probability_model = tf.keras.Sequential([\n",
        "  model,\n",
        "  tf.keras.layers.Softmax()\n",
        "])\n"
      ],
      "metadata": {
        "id": "z5pD9DeyW1-c"
      },
      "execution_count": 61,
      "outputs": []
    },
    {
      "cell_type": "code",
      "source": [
        "image_index = 7"
      ],
      "metadata": {
        "id": "Ils9C083Yu4k"
      },
      "execution_count": 62,
      "outputs": []
    },
    {
      "cell_type": "code",
      "source": [
        "import matplotlib.pyplot as plt\n",
        "print(probability_model(x_test[image_index:image_index+1]).numpy().argmax())\n",
        "plt.imshow(x_test[image_index])"
      ],
      "metadata": {
        "id": "BN5qf9xjV7Ky"
      },
      "execution_count": null,
      "outputs": []
    }
  ]
}